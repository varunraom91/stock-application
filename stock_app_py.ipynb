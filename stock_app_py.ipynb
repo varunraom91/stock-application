{
  "nbformat": 4,
  "nbformat_minor": 0,
  "metadata": {
    "colab": {
      "provenance": [],
      "authorship_tag": "ABX9TyM+SgVqbEt+nlKaQPwnrPNN",
      "include_colab_link": true
    },
    "kernelspec": {
      "name": "python3",
      "display_name": "Python 3"
    },
    "language_info": {
      "name": "python"
    }
  },
  "cells": [
    {
      "cell_type": "markdown",
      "metadata": {
        "id": "view-in-github",
        "colab_type": "text"
      },
      "source": [
        "<a href=\"https://colab.research.google.com/github/varunraom91/stock-application/blob/main/stock_app_py.ipynb\" target=\"_parent\"><img src=\"https://colab.research.google.com/assets/colab-badge.svg\" alt=\"Open In Colab\"/></a>"
      ]
    },
    {
      "cell_type": "code",
      "execution_count": 1,
      "metadata": {
        "colab": {
          "base_uri": "https://localhost:8080/"
        },
        "id": "J9Xywz2N8hOt",
        "outputId": "413c1788-e190-4730-d7ca-73a203f0a4df"
      },
      "outputs": [
        {
          "output_type": "stream",
          "name": "stdout",
          "text": [
            "Collecting streamlit\n",
            "  Downloading streamlit-1.41.1-py2.py3-none-any.whl.metadata (8.5 kB)\n",
            "Requirement already satisfied: yfinance in /usr/local/lib/python3.11/dist-packages (0.2.52)\n",
            "Requirement already satisfied: pandas in /usr/local/lib/python3.11/dist-packages (2.2.2)\n",
            "Requirement already satisfied: numpy in /usr/local/lib/python3.11/dist-packages (1.26.4)\n",
            "Requirement already satisfied: plotly in /usr/local/lib/python3.11/dist-packages (5.24.1)\n",
            "Requirement already satisfied: requests in /usr/local/lib/python3.11/dist-packages (2.32.3)\n",
            "Requirement already satisfied: beautifulsoup4 in /usr/local/lib/python3.11/dist-packages (4.12.3)\n",
            "Collecting pyngrok\n",
            "  Downloading pyngrok-7.2.3-py3-none-any.whl.metadata (8.7 kB)\n",
            "Requirement already satisfied: altair<6,>=4.0 in /usr/local/lib/python3.11/dist-packages (from streamlit) (5.5.0)\n",
            "Requirement already satisfied: blinker<2,>=1.0.0 in /usr/local/lib/python3.11/dist-packages (from streamlit) (1.9.0)\n",
            "Requirement already satisfied: cachetools<6,>=4.0 in /usr/local/lib/python3.11/dist-packages (from streamlit) (5.5.1)\n",
            "Requirement already satisfied: click<9,>=7.0 in /usr/local/lib/python3.11/dist-packages (from streamlit) (8.1.8)\n",
            "Requirement already satisfied: packaging<25,>=20 in /usr/local/lib/python3.11/dist-packages (from streamlit) (24.2)\n",
            "Requirement already satisfied: pillow<12,>=7.1.0 in /usr/local/lib/python3.11/dist-packages (from streamlit) (11.1.0)\n",
            "Requirement already satisfied: protobuf<6,>=3.20 in /usr/local/lib/python3.11/dist-packages (from streamlit) (4.25.5)\n",
            "Requirement already satisfied: pyarrow>=7.0 in /usr/local/lib/python3.11/dist-packages (from streamlit) (17.0.0)\n",
            "Requirement already satisfied: rich<14,>=10.14.0 in /usr/local/lib/python3.11/dist-packages (from streamlit) (13.9.4)\n",
            "Requirement already satisfied: tenacity<10,>=8.1.0 in /usr/local/lib/python3.11/dist-packages (from streamlit) (9.0.0)\n",
            "Requirement already satisfied: toml<2,>=0.10.1 in /usr/local/lib/python3.11/dist-packages (from streamlit) (0.10.2)\n",
            "Requirement already satisfied: typing-extensions<5,>=4.3.0 in /usr/local/lib/python3.11/dist-packages (from streamlit) (4.12.2)\n",
            "Collecting watchdog<7,>=2.1.5 (from streamlit)\n",
            "  Downloading watchdog-6.0.0-py3-none-manylinux2014_x86_64.whl.metadata (44 kB)\n",
            "\u001b[2K     \u001b[90m━━━━━━━━━━━━━━━━━━━━━━━━━━━━━━━━━━━━━━━━\u001b[0m \u001b[32m44.3/44.3 kB\u001b[0m \u001b[31m1.5 MB/s\u001b[0m eta \u001b[36m0:00:00\u001b[0m\n",
            "\u001b[?25hRequirement already satisfied: gitpython!=3.1.19,<4,>=3.0.7 in /usr/local/lib/python3.11/dist-packages (from streamlit) (3.1.44)\n",
            "Collecting pydeck<1,>=0.8.0b4 (from streamlit)\n",
            "  Downloading pydeck-0.9.1-py2.py3-none-any.whl.metadata (4.1 kB)\n",
            "Requirement already satisfied: tornado<7,>=6.0.3 in /usr/local/lib/python3.11/dist-packages (from streamlit) (6.3.3)\n",
            "Requirement already satisfied: multitasking>=0.0.7 in /usr/local/lib/python3.11/dist-packages (from yfinance) (0.0.11)\n",
            "Requirement already satisfied: lxml>=4.9.1 in /usr/local/lib/python3.11/dist-packages (from yfinance) (5.3.0)\n",
            "Requirement already satisfied: platformdirs>=2.0.0 in /usr/local/lib/python3.11/dist-packages (from yfinance) (4.3.6)\n",
            "Requirement already satisfied: pytz>=2022.5 in /usr/local/lib/python3.11/dist-packages (from yfinance) (2024.2)\n",
            "Requirement already satisfied: frozendict>=2.3.4 in /usr/local/lib/python3.11/dist-packages (from yfinance) (2.4.6)\n",
            "Requirement already satisfied: peewee>=3.16.2 in /usr/local/lib/python3.11/dist-packages (from yfinance) (3.17.8)\n",
            "Requirement already satisfied: html5lib>=1.1 in /usr/local/lib/python3.11/dist-packages (from yfinance) (1.1)\n",
            "Requirement already satisfied: python-dateutil>=2.8.2 in /usr/local/lib/python3.11/dist-packages (from pandas) (2.8.2)\n",
            "Requirement already satisfied: tzdata>=2022.7 in /usr/local/lib/python3.11/dist-packages (from pandas) (2025.1)\n",
            "Requirement already satisfied: charset-normalizer<4,>=2 in /usr/local/lib/python3.11/dist-packages (from requests) (3.4.1)\n",
            "Requirement already satisfied: idna<4,>=2.5 in /usr/local/lib/python3.11/dist-packages (from requests) (3.10)\n",
            "Requirement already satisfied: urllib3<3,>=1.21.1 in /usr/local/lib/python3.11/dist-packages (from requests) (2.3.0)\n",
            "Requirement already satisfied: certifi>=2017.4.17 in /usr/local/lib/python3.11/dist-packages (from requests) (2024.12.14)\n",
            "Requirement already satisfied: soupsieve>1.2 in /usr/local/lib/python3.11/dist-packages (from beautifulsoup4) (2.6)\n",
            "Requirement already satisfied: PyYAML>=5.1 in /usr/local/lib/python3.11/dist-packages (from pyngrok) (6.0.2)\n",
            "Requirement already satisfied: jinja2 in /usr/local/lib/python3.11/dist-packages (from altair<6,>=4.0->streamlit) (3.1.5)\n",
            "Requirement already satisfied: jsonschema>=3.0 in /usr/local/lib/python3.11/dist-packages (from altair<6,>=4.0->streamlit) (4.23.0)\n",
            "Requirement already satisfied: narwhals>=1.14.2 in /usr/local/lib/python3.11/dist-packages (from altair<6,>=4.0->streamlit) (1.23.0)\n",
            "Requirement already satisfied: gitdb<5,>=4.0.1 in /usr/local/lib/python3.11/dist-packages (from gitpython!=3.1.19,<4,>=3.0.7->streamlit) (4.0.12)\n",
            "Requirement already satisfied: six>=1.9 in /usr/local/lib/python3.11/dist-packages (from html5lib>=1.1->yfinance) (1.17.0)\n",
            "Requirement already satisfied: webencodings in /usr/local/lib/python3.11/dist-packages (from html5lib>=1.1->yfinance) (0.5.1)\n",
            "Requirement already satisfied: markdown-it-py>=2.2.0 in /usr/local/lib/python3.11/dist-packages (from rich<14,>=10.14.0->streamlit) (3.0.0)\n",
            "Requirement already satisfied: pygments<3.0.0,>=2.13.0 in /usr/local/lib/python3.11/dist-packages (from rich<14,>=10.14.0->streamlit) (2.18.0)\n",
            "Requirement already satisfied: smmap<6,>=3.0.1 in /usr/local/lib/python3.11/dist-packages (from gitdb<5,>=4.0.1->gitpython!=3.1.19,<4,>=3.0.7->streamlit) (5.0.2)\n",
            "Requirement already satisfied: MarkupSafe>=2.0 in /usr/local/lib/python3.11/dist-packages (from jinja2->altair<6,>=4.0->streamlit) (3.0.2)\n",
            "Requirement already satisfied: attrs>=22.2.0 in /usr/local/lib/python3.11/dist-packages (from jsonschema>=3.0->altair<6,>=4.0->streamlit) (24.3.0)\n",
            "Requirement already satisfied: jsonschema-specifications>=2023.03.6 in /usr/local/lib/python3.11/dist-packages (from jsonschema>=3.0->altair<6,>=4.0->streamlit) (2024.10.1)\n",
            "Requirement already satisfied: referencing>=0.28.4 in /usr/local/lib/python3.11/dist-packages (from jsonschema>=3.0->altair<6,>=4.0->streamlit) (0.36.1)\n",
            "Requirement already satisfied: rpds-py>=0.7.1 in /usr/local/lib/python3.11/dist-packages (from jsonschema>=3.0->altair<6,>=4.0->streamlit) (0.22.3)\n",
            "Requirement already satisfied: mdurl~=0.1 in /usr/local/lib/python3.11/dist-packages (from markdown-it-py>=2.2.0->rich<14,>=10.14.0->streamlit) (0.1.2)\n",
            "Downloading streamlit-1.41.1-py2.py3-none-any.whl (9.1 MB)\n",
            "\u001b[2K   \u001b[90m━━━━━━━━━━━━━━━━━━━━━━━━━━━━━━━━━━━━━━━━\u001b[0m \u001b[32m9.1/9.1 MB\u001b[0m \u001b[31m25.5 MB/s\u001b[0m eta \u001b[36m0:00:00\u001b[0m\n",
            "\u001b[?25hDownloading pyngrok-7.2.3-py3-none-any.whl (23 kB)\n",
            "Downloading pydeck-0.9.1-py2.py3-none-any.whl (6.9 MB)\n",
            "\u001b[2K   \u001b[90m━━━━━━━━━━━━━━━━━━━━━━━━━━━━━━━━━━━━━━━━\u001b[0m \u001b[32m6.9/6.9 MB\u001b[0m \u001b[31m35.0 MB/s\u001b[0m eta \u001b[36m0:00:00\u001b[0m\n",
            "\u001b[?25hDownloading watchdog-6.0.0-py3-none-manylinux2014_x86_64.whl (79 kB)\n",
            "\u001b[2K   \u001b[90m━━━━━━━━━━━━━━━━━━━━━━━━━━━━━━━━━━━━━━━━\u001b[0m \u001b[32m79.1/79.1 kB\u001b[0m \u001b[31m3.4 MB/s\u001b[0m eta \u001b[36m0:00:00\u001b[0m\n",
            "\u001b[?25hInstalling collected packages: watchdog, pyngrok, pydeck, streamlit\n",
            "Successfully installed pydeck-0.9.1 pyngrok-7.2.3 streamlit-1.41.1 watchdog-6.0.0\n"
          ]
        }
      ],
      "source": [
        "!pip install streamlit yfinance pandas numpy plotly requests beautifulsoup4 pyngrok"
      ]
    },
    {
      "cell_type": "code",
      "source": [
        "!pip install prophet yfinance"
      ],
      "metadata": {
        "colab": {
          "base_uri": "https://localhost:8080/"
        },
        "id": "APwiU63bZbNG",
        "outputId": "abaa211f-33bc-4b62-e0bd-8249e6e9f8e2"
      },
      "execution_count": 2,
      "outputs": [
        {
          "output_type": "stream",
          "name": "stdout",
          "text": [
            "Requirement already satisfied: prophet in /usr/local/lib/python3.11/dist-packages (1.1.6)\n",
            "Requirement already satisfied: yfinance in /usr/local/lib/python3.11/dist-packages (0.2.52)\n",
            "Requirement already satisfied: cmdstanpy>=1.0.4 in /usr/local/lib/python3.11/dist-packages (from prophet) (1.2.5)\n",
            "Requirement already satisfied: numpy>=1.15.4 in /usr/local/lib/python3.11/dist-packages (from prophet) (1.26.4)\n",
            "Requirement already satisfied: matplotlib>=2.0.0 in /usr/local/lib/python3.11/dist-packages (from prophet) (3.10.0)\n",
            "Requirement already satisfied: pandas>=1.0.4 in /usr/local/lib/python3.11/dist-packages (from prophet) (2.2.2)\n",
            "Requirement already satisfied: holidays<1,>=0.25 in /usr/local/lib/python3.11/dist-packages (from prophet) (0.65)\n",
            "Requirement already satisfied: tqdm>=4.36.1 in /usr/local/lib/python3.11/dist-packages (from prophet) (4.67.1)\n",
            "Requirement already satisfied: importlib-resources in /usr/local/lib/python3.11/dist-packages (from prophet) (6.5.2)\n",
            "Requirement already satisfied: requests>=2.31 in /usr/local/lib/python3.11/dist-packages (from yfinance) (2.32.3)\n",
            "Requirement already satisfied: multitasking>=0.0.7 in /usr/local/lib/python3.11/dist-packages (from yfinance) (0.0.11)\n",
            "Requirement already satisfied: lxml>=4.9.1 in /usr/local/lib/python3.11/dist-packages (from yfinance) (5.3.0)\n",
            "Requirement already satisfied: platformdirs>=2.0.0 in /usr/local/lib/python3.11/dist-packages (from yfinance) (4.3.6)\n",
            "Requirement already satisfied: pytz>=2022.5 in /usr/local/lib/python3.11/dist-packages (from yfinance) (2024.2)\n",
            "Requirement already satisfied: frozendict>=2.3.4 in /usr/local/lib/python3.11/dist-packages (from yfinance) (2.4.6)\n",
            "Requirement already satisfied: peewee>=3.16.2 in /usr/local/lib/python3.11/dist-packages (from yfinance) (3.17.8)\n",
            "Requirement already satisfied: beautifulsoup4>=4.11.1 in /usr/local/lib/python3.11/dist-packages (from yfinance) (4.12.3)\n",
            "Requirement already satisfied: html5lib>=1.1 in /usr/local/lib/python3.11/dist-packages (from yfinance) (1.1)\n",
            "Requirement already satisfied: soupsieve>1.2 in /usr/local/lib/python3.11/dist-packages (from beautifulsoup4>=4.11.1->yfinance) (2.6)\n",
            "Requirement already satisfied: stanio<2.0.0,>=0.4.0 in /usr/local/lib/python3.11/dist-packages (from cmdstanpy>=1.0.4->prophet) (0.5.1)\n",
            "Requirement already satisfied: python-dateutil in /usr/local/lib/python3.11/dist-packages (from holidays<1,>=0.25->prophet) (2.8.2)\n",
            "Requirement already satisfied: six>=1.9 in /usr/local/lib/python3.11/dist-packages (from html5lib>=1.1->yfinance) (1.17.0)\n",
            "Requirement already satisfied: webencodings in /usr/local/lib/python3.11/dist-packages (from html5lib>=1.1->yfinance) (0.5.1)\n",
            "Requirement already satisfied: contourpy>=1.0.1 in /usr/local/lib/python3.11/dist-packages (from matplotlib>=2.0.0->prophet) (1.3.1)\n",
            "Requirement already satisfied: cycler>=0.10 in /usr/local/lib/python3.11/dist-packages (from matplotlib>=2.0.0->prophet) (0.12.1)\n",
            "Requirement already satisfied: fonttools>=4.22.0 in /usr/local/lib/python3.11/dist-packages (from matplotlib>=2.0.0->prophet) (4.55.4)\n",
            "Requirement already satisfied: kiwisolver>=1.3.1 in /usr/local/lib/python3.11/dist-packages (from matplotlib>=2.0.0->prophet) (1.4.8)\n",
            "Requirement already satisfied: packaging>=20.0 in /usr/local/lib/python3.11/dist-packages (from matplotlib>=2.0.0->prophet) (24.2)\n",
            "Requirement already satisfied: pillow>=8 in /usr/local/lib/python3.11/dist-packages (from matplotlib>=2.0.0->prophet) (11.1.0)\n",
            "Requirement already satisfied: pyparsing>=2.3.1 in /usr/local/lib/python3.11/dist-packages (from matplotlib>=2.0.0->prophet) (3.2.1)\n",
            "Requirement already satisfied: tzdata>=2022.7 in /usr/local/lib/python3.11/dist-packages (from pandas>=1.0.4->prophet) (2025.1)\n",
            "Requirement already satisfied: charset-normalizer<4,>=2 in /usr/local/lib/python3.11/dist-packages (from requests>=2.31->yfinance) (3.4.1)\n",
            "Requirement already satisfied: idna<4,>=2.5 in /usr/local/lib/python3.11/dist-packages (from requests>=2.31->yfinance) (3.10)\n",
            "Requirement already satisfied: urllib3<3,>=1.21.1 in /usr/local/lib/python3.11/dist-packages (from requests>=2.31->yfinance) (2.3.0)\n",
            "Requirement already satisfied: certifi>=2017.4.17 in /usr/local/lib/python3.11/dist-packages (from requests>=2.31->yfinance) (2024.12.14)\n"
          ]
        }
      ]
    },
    {
      "cell_type": "code",
      "source": [
        "%%writefile predict.py\n",
        "from prophet import Prophet\n",
        "import yfinance as yf\n",
        "import pandas as pd\n",
        "import streamlit as st  # Import Streamlit here\n",
        "\n",
        "\n",
        "def get_forecast(ticker, periods=365):\n",
        "    try:\n",
        "        # Download historical data\n",
        "        data = yf.download(ticker, period=\"5y\")\n",
        "        df = data.reset_index()[['Date', 'Close']]\n",
        "        df.columns = ['ds', 'y']\n",
        "\n",
        "        # Train model\n",
        "        model = Prophet()\n",
        "        model.fit(df)\n",
        "\n",
        "        # Generate forecast\n",
        "        future = model.make_future_dataframe(periods=periods)\n",
        "        forecast = model.predict(future)\n",
        "        return forecast[['ds', 'yhat', 'yhat_lower', 'yhat_upper']]\n",
        "\n",
        "    except Exception as e:\n",
        "        print(f\"Prediction error: {e}\")\n",
        "        return pd.DataFrame()"
      ],
      "metadata": {
        "colab": {
          "base_uri": "https://localhost:8080/"
        },
        "id": "CQ76IYjAZd7d",
        "outputId": "44b49344-b7e4-4f0f-ae32-70a2c729445f"
      },
      "execution_count": 3,
      "outputs": [
        {
          "output_type": "stream",
          "name": "stdout",
          "text": [
            "Writing predict.py\n"
          ]
        }
      ]
    },
    {
      "cell_type": "code",
      "source": [
        "%%writefile database.py\n",
        "import sqlite3\n",
        "import json\n",
        "\n",
        "def init_db():\n",
        "    conn = sqlite3.connect('portfolio.db')\n",
        "    c = conn.cursor()\n",
        "    c.execute('''CREATE TABLE IF NOT EXISTS portfolios\n",
        "                (id INTEGER PRIMARY KEY,\n",
        "                 name TEXT UNIQUE,\n",
        "                 stocks TEXT,\n",
        "                 weights TEXT)''')\n",
        "    conn.commit()\n",
        "    conn.close()\n",
        "\n",
        "def save_portfolio(name, stocks, weights):\n",
        "    conn = sqlite3.connect('portfolio.db')\n",
        "    c = conn.cursor()\n",
        "    try:\n",
        "        c.execute('''INSERT INTO portfolios (name, stocks, weights)\n",
        "                     VALUES (?, ?, ?)''',\n",
        "                  (name, json.dumps(stocks), json.dumps(weights)))\n",
        "        conn.commit()\n",
        "    except sqlite3.IntegrityError:\n",
        "        raise ValueError(\"Portfolio name already exists\")\n",
        "    finally:\n",
        "        conn.close()\n",
        "\n",
        "def load_portfolios():\n",
        "    conn = sqlite3.connect('portfolio.db')\n",
        "    c = conn.cursor()\n",
        "    c.execute('SELECT * FROM portfolios')\n",
        "    portfolios = c.fetchall()\n",
        "    conn.close()\n",
        "    return portfolios\n",
        "\n",
        "def delete_portfolio(portfolio_id):\n",
        "    \"\"\"Delete a portfolio by ID\"\"\"\n",
        "    conn = sqlite3.connect('portfolio.db')\n",
        "    c = conn.cursor()\n",
        "    c.execute('DELETE FROM portfolios WHERE id = ?', (portfolio_id,))\n",
        "    conn.commit()\n",
        "    conn.close()"
      ],
      "metadata": {
        "colab": {
          "base_uri": "https://localhost:8080/"
        },
        "id": "Ppwh0Lw8RrDd",
        "outputId": "dd7333c5-422c-42af-eaf4-6cb42f83d9ca"
      },
      "execution_count": 4,
      "outputs": [
        {
          "output_type": "stream",
          "name": "stdout",
          "text": [
            "Writing database.py\n"
          ]
        }
      ]
    },
    {
      "cell_type": "code",
      "source": [
        "%%writefile stock_app.py\n",
        "# --------------------------\n",
        "# 1. Initial Setup & Imports\n",
        "# --------------------------\n",
        "import streamlit as st\n",
        "st.set_page_config(page_title=\"Stock Analysis Pro\", layout=\"wide\")\n",
        "\n",
        "import warnings\n",
        "warnings.filterwarnings(\"ignore\")\n",
        "\n",
        "import yfinance as yf\n",
        "import pandas as pd\n",
        "import numpy as np\n",
        "import plotly.express as px\n",
        "import requests\n",
        "import json\n",
        "from bs4 import BeautifulSoup\n",
        "from datetime import datetime\n",
        "from predict import get_forecast\n",
        "import database\n",
        "import time\n",
        "\n",
        "# --------------------------\n",
        "# 2. Enhanced Helper Functions\n",
        "# --------------------------\n",
        "def company_to_ticker(company_name):\n",
        "    \"\"\"Convert company name to stock ticker using Yahoo Finance's search API\"\"\"\n",
        "    try:\n",
        "        url = f\"https://query2.finance.yahoo.com/v1/finance/search\"\n",
        "        params = {\"q\": company_name, \"quotes_count\": 1}\n",
        "        headers = {\n",
        "            \"User-Agent\": \"Mozilla/5.0 (Windows NT 10.0; Win64; x64) AppleWebKit/537.36 (KHTML, like Gecko) Chrome/58.0.3029.110 Safari/537.3\"\n",
        "        }\n",
        "\n",
        "        response = requests.get(url, params=params, headers=headers)\n",
        "        data = response.json()\n",
        "\n",
        "        if data.get('quotes'):\n",
        "            return data['quotes'][0]['symbol']\n",
        "        return None\n",
        "    except Exception as e:\n",
        "        print(f\"Ticker lookup error: {e}\")\n",
        "        return None\n",
        "\n",
        "def dcf_model(fcf, growth, terminal_growth, discount_rate, years):\n",
        "    \"\"\"Discounted Cash Flow valuation model\"\"\"\n",
        "    cash_flows = []\n",
        "    for year in range(1, years + 1):\n",
        "        fcf *= (1 + growth/100)\n",
        "        cash_flows.append(fcf / ((1 + discount_rate/100) ** year))\n",
        "\n",
        "    terminal_value = (fcf * (1 + terminal_growth/100)) / (\n",
        "        (discount_rate/100 - terminal_growth/100))\n",
        "    terminal_value_discounted = terminal_value / ((1 + discount_rate/100) ** years)\n",
        "\n",
        "    return sum(cash_flows) + terminal_value_discounted\n",
        "\n",
        "def validate_weights(weights):\n",
        "    \"\"\"Ensure weights sum to 100%\"\"\"\n",
        "    return abs(sum(weights) - 100.0) < 0.01\n",
        "\n",
        "# --------------------------\n",
        "# 3. Main App Logic\n",
        "# --------------------------\n",
        "def main():\n",
        "    # Initialize database\n",
        "    database.init_db()\n",
        "\n",
        "    # Sidebar inputs\n",
        "    st.sidebar.header(\"🔍 Search Parameters\")\n",
        "    company_name = st.sidebar.text_input(\"Company Name\", \"Netflix\")\n",
        "\n",
        "    # Convert company name to ticker\n",
        "    ticker = company_to_ticker(company_name)\n",
        "\n",
        "    if not ticker:\n",
        "        st.error(f\"Company '{company_name}' not found! Try these examples:\")\n",
        "        st.write(\"- Microsoft → MSFT\")\n",
        "        st.write(\"- Apple → AAPL\")\n",
        "        st.write(\"- Amazon → AMZN\")\n",
        "        st.stop()\n",
        "\n",
        "    st.sidebar.success(f\"Resolved Ticker: {ticker}\")\n",
        "\n",
        "    # Financial assumptions\n",
        "    years = st.sidebar.slider(\"Forecast Period (Years)\", 1, 10, 5)\n",
        "    growth_rate = st.sidebar.slider(\"Initial Growth Rate (%)\", 0.0, 20.0, 10.0)\n",
        "    terminal_growth = st.sidebar.slider(\"Terminal Growth Rate (%)\", 0.0, 5.0, 3.0)\n",
        "    discount_rate = st.sidebar.slider(\"Discount Rate (WACC, %)\", 5.0, 15.0, 10.0)\n",
        "\n",
        "    # Main tabs\n",
        "    tab1, tab2, tab3 = st.tabs([\"Stock Analysis\", \"Portfolio Manager\", \"Predictions\"])\n",
        "\n",
        "    # Stock Analysis Tab\n",
        "    with tab1:\n",
        "         # DCF Valuation Section\n",
        "        st.subheader(\"Free Cash Flow Valuation Model\")\n",
        "\n",
        "        try:\n",
        "            info = yf.Ticker(ticker).info\n",
        "            fcf = info.get('freeCashflow', 1e9)\n",
        "            shares_outstanding = info.get('sharesOutstanding', 1e9)\n",
        "            current_price = info.get('currentPrice', 0)\n",
        "\n",
        "            fair_value = dcf_model(fcf, growth_rate, terminal_growth, discount_rate, years)\n",
        "            fair_price = fair_value / shares_outstanding\n",
        "\n",
        "            col1, col2 = st.columns(2)\n",
        "            with col1:\n",
        "                st.markdown(f\"\"\"\n",
        "                **DCF Assumptions:**\n",
        "                - Initial FCF: ${fcf/1e9:.1f}B\n",
        "                - Growth Rate: {growth_rate}%\n",
        "                - Terminal Growth: {terminal_growth}%\n",
        "                - Discount Rate (WACC): {discount_rate}%\n",
        "                \"\"\")\n",
        "            with col2:\n",
        "                st.metric(\"Fair Value Estimate\", f\"${fair_price:.2f} per share\")\n",
        "                st.write(f\"**Current Price**: ${current_price:.2f}\")\n",
        "\n",
        "        except Exception as e:\n",
        "            st.error(f\"Error in DCF calculation: {str(e)}\")\n",
        "\n",
        "    # Portfolio Manager Tab - FIXED\n",
        "    with tab2:\n",
        "        st.subheader(\"📦 Portfolio Management\")\n",
        "\n",
        "        # Create New Portfolio\n",
        "        with st.expander(\"➕ Create New Portfolio\", expanded=True):\n",
        "            portfolio_name = st.text_input(\"Portfolio Name\")\n",
        "            selected_stocks = st.multiselect(\"Select Stocks\",\n",
        "                                           [\"NFLX\", \"AMZN\", \"GOOG\", \"TSLA\", \"MSFT\", \"META\"])\n",
        "\n",
        "            weights = []\n",
        "            if selected_stocks:\n",
        "                cols = st.columns(len(selected_stocks))\n",
        "                default_weight = 100/len(selected_stocks)\n",
        "                for i, stock in enumerate(selected_stocks):\n",
        "                    with cols[i]:\n",
        "                        weights.append(st.number_input(\n",
        "                            f\"{stock} Weight (%)\",\n",
        "                            min_value=0.0,\n",
        "                            max_value=100.0,\n",
        "                            value=round(default_weight, 2)\n",
        "                        ))\n",
        "\n",
        "            if st.button(\"💾 Save Portfolio\") and portfolio_name:\n",
        "                if abs(sum(weights) - 100.0) < 0.01:\n",
        "                    try:\n",
        "                        database.save_portfolio(portfolio_name, selected_stocks, weights)\n",
        "                        st.success(\"Portfolio saved!\")\n",
        "                    except sqlite3.IntegrityError:\n",
        "                        st.error(\"Portfolio name already exists!\")\n",
        "                else:\n",
        "                    st.error(\"Weights must sum to 100%\")\n",
        "\n",
        "        # View Portfolios\n",
        "        with st.expander(\"📂 View Portfolios\"):\n",
        "            portfolios = database.load_portfolios()\n",
        "            if not portfolios:\n",
        "                st.warning(\"No portfolios found!\")\n",
        "\n",
        "            for portfolio in portfolios:\n",
        "                st.subheader(portfolio[1])\n",
        "                stocks = json.loads(portfolio[2])\n",
        "                weights = json.loads(portfolio[3])\n",
        "\n",
        "                col1, col2 = st.columns([3, 1])\n",
        "                with col1:\n",
        "                    for stock, weight in zip(stocks, weights):\n",
        "                        st.write(f\"- {stock}: {weight}%\")\n",
        "                with col2:\n",
        "                    if st.button(f\"🗑️ Delete\", key=f\"delete_{portfolio[0]}\"):\n",
        "                        database.delete_portfolio(portfolio[0])\n",
        "                        st.experimental_rerun()\n",
        "\n",
        "                st.markdown(\"---\")\n",
        "\n",
        "    # Predictions Tab\n",
        "    with tab3:\n",
        "          # Price Predictions\n",
        "        st.subheader(\"🔮 Price Predictions\")\n",
        "        selected_ticker = st.selectbox(\"Select Stock\", [\"NFLX\", \"AMZN\", \"GOOG\", \"TSLA\"])\n",
        "\n",
        "        if st.button(\"Generate Forecast\"):\n",
        "            with st.spinner(\"Generating forecast...\"):\n",
        "                try:\n",
        "                    forecast = get_forecast(selected_ticker)\n",
        "                    if not forecast.empty:\n",
        "                        fig = px.line(forecast, x='ds', y='yhat',\n",
        "                                    title=f\"{selected_ticker} Forecast\",\n",
        "                                    labels={'yhat': 'Predicted Price'})\n",
        "                        st.plotly_chart(fig)\n",
        "                    else:\n",
        "                        st.warning(\"Failed to generate forecast\")\n",
        "                except Exception as e:\n",
        "                    st.error(f\"Prediction error: {str(e)}\")\n",
        "if __name__ == \"__main__\":\n",
        "    main()"
      ],
      "metadata": {
        "colab": {
          "base_uri": "https://localhost:8080/"
        },
        "id": "7BdSIi0v8sY9",
        "outputId": "48e64634-8cf5-47c2-ae23-19cfc772f883"
      },
      "execution_count": 5,
      "outputs": [
        {
          "output_type": "stream",
          "name": "stdout",
          "text": [
            "Writing stock_app.py\n"
          ]
        }
      ]
    },
    {
      "cell_type": "code",
      "source": [
        "from pyngrok import ngrok\n",
        "import time\n",
        "\n",
        "# Get your FREE ngrok authtoken from https://dashboard.ngrok.com/get-started/your-authtoken\n",
        "ngrok.set_auth_token(\"2s1q2fGf4x72P4LEHaDHmRBvLN5_6mUyVEGMHncPbainUMtf3\")  # Replace with your actual token\n",
        "\n",
        "# Kill existing tunnels\n",
        "ngrok.kill()\n",
        "\n",
        "# Start Streamlit in background\n",
        "get_ipython().system_raw('streamlit run stock_app.py --server.port 8501 &')\n",
        "\n",
        "# Wait for app to load\n",
        "time.sleep(15)\n",
        "\n",
        "# Create tunnel\n",
        "public_url = ngrok.connect(8501, bind_tls=True).public_url\n",
        "print(f\"Your app is running at: {public_url}\")"
      ],
      "metadata": {
        "colab": {
          "base_uri": "https://localhost:8080/"
        },
        "id": "xcQdqaIQMR2A",
        "outputId": "c157c53a-dcc9-4338-f691-6349b3e8ddae"
      },
      "execution_count": 6,
      "outputs": [
        {
          "output_type": "stream",
          "name": "stdout",
          "text": [
            "Your app is running at: https://b4ec-35-229-238-60.ngrok-free.app\n"
          ]
        }
      ]
    },
    {
      "cell_type": "markdown",
      "source": [],
      "metadata": {
        "id": "degjv15MIx8l"
      }
    },
    {
      "cell_type": "markdown",
      "source": [],
      "metadata": {
        "id": "LiI7xatgaXmm"
      }
    },
    {
      "cell_type": "code",
      "source": [
        "!lsof -i :8501  # Check if port 8501 is occupied"
      ],
      "metadata": {
        "colab": {
          "base_uri": "https://localhost:8080/"
        },
        "id": "7ZeZA2h3Cgrq",
        "outputId": "c40e0b6f-e28b-4268-fc22-6995b90cb175"
      },
      "execution_count": 7,
      "outputs": [
        {
          "output_type": "stream",
          "name": "stdout",
          "text": [
            "COMMAND   PID USER   FD   TYPE DEVICE SIZE/OFF NODE NAME\n",
            "streamlit 892 root    6u  IPv4  43434      0t0  TCP *:8501 (LISTEN)\n",
            "streamlit 892 root    7u  IPv6  43435      0t0  TCP *:8501 (LISTEN)\n"
          ]
        }
      ]
    },
    {
      "cell_type": "code",
      "source": [
        "!streamlit run stock_app.py --server.port 8501"
      ],
      "metadata": {
        "colab": {
          "base_uri": "https://localhost:8080/"
        },
        "id": "0eo4bFKaCw23",
        "outputId": "ceab67c6-c513-45ef-8cfb-01246f693a41"
      },
      "execution_count": 8,
      "outputs": [
        {
          "output_type": "stream",
          "name": "stdout",
          "text": [
            "\n",
            "Collecting usage statistics. To deactivate, set browser.gatherUsageStats to false.\n",
            "\u001b[0m\n",
            "2025-01-25 02:01:38.713 Port 8501 is already in use\n"
          ]
        }
      ]
    }
  ]
}